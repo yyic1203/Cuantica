{
  "nbformat": 4,
  "nbformat_minor": 0,
  "metadata": {
    "colab": {
      "provenance": [],
      "include_colab_link": true
    },
    "kernelspec": {
      "name": "python3",
      "display_name": "Python 3"
    },
    "language_info": {
      "name": "python"
    }
  },
  "cells": [
    {
      "cell_type": "markdown",
      "metadata": {
        "id": "view-in-github",
        "colab_type": "text"
      },
      "source": [
        "<a href=\"https://colab.research.google.com/github/yyic1203/Cuantica/blob/main/cuantica_taller_2.ipynb\" target=\"_parent\"><img src=\"https://colab.research.google.com/assets/colab-badge.svg\" alt=\"Open In Colab\"/></a>"
      ]
    },
    {
      "cell_type": "markdown",
      "source": [
        "#Librerias"
      ],
      "metadata": {
        "id": "cv_UnssCWteD"
      }
    },
    {
      "cell_type": "code",
      "execution_count": null,
      "metadata": {
        "id": "dxm5HwlHbdAJ"
      },
      "outputs": [],
      "source": [
        "import numpy as np\n",
        "import sympy as sp\n",
        "from numpy.linalg import eig"
      ]
    },
    {
      "cell_type": "markdown",
      "source": [
        "#Ejercicio 3.3"
      ],
      "metadata": {
        "id": "qSHX8cLFWxRV"
      }
    },
    {
      "cell_type": "code",
      "source": [
        "e1=((197*np.pi)**2)/(2*64*939)\n",
        "e2=4*e1\n",
        "e3=9*e1\n",
        "print('El valor de energía 1 es: ', e1)\n",
        "print('El valor de energía 2 es: ', e2)\n",
        "print('El valor de energía 3 es: ', e3)"
      ],
      "metadata": {
        "colab": {
          "base_uri": "https://localhost:8080/"
        },
        "id": "WQCwq4BIbrL_",
        "outputId": "9bbad081-4617-4172-8ee9-cb5fbdb55b4e"
      },
      "execution_count": null,
      "outputs": [
        {
          "output_type": "stream",
          "name": "stdout",
          "text": [
            "El valor de energía 1 es:  3.186813408561941\n",
            "El valor de energía 2 es:  12.747253634247764\n",
            "El valor de energía 3 es:  28.68132067705747\n"
          ]
        }
      ]
    },
    {
      "cell_type": "code",
      "source": [
        "P=e1*(2/7)+e2*(1/7)+e3*(4/7)\n",
        "print('La energía promedio es: ', P)"
      ],
      "metadata": {
        "colab": {
          "base_uri": "https://localhost:8080/"
        },
        "id": "sfFXNNmBy7MW",
        "outputId": "dafdb019-ad84-46ff-f49d-5dcc95e38eac"
      },
      "execution_count": null,
      "outputs": [
        {
          "output_type": "stream",
          "name": "stdout",
          "text": [
            "La energía promedio es:  19.120880451371647\n"
          ]
        }
      ]
    },
    {
      "cell_type": "markdown",
      "source": [
        "#Ejercicio 3.12"
      ],
      "metadata": {
        "id": "-sLFg9TyXGdd"
      }
    },
    {
      "cell_type": "code",
      "source": [
        "H = np.array([[-2, 0, 0],\n",
        "              [0, 1, 0],\n",
        "              [0, 0, 1]])\n",
        "\n",
        "A = np.array([[5, 0, 0],\n",
        "              [0, 0, 2],\n",
        "              [0, 2, 0]])\n",
        "C1=np.dot(H,A)\n",
        "C2=np.dot(A,H)\n",
        "chl=C1-C2\n",
        "print(' C1: ', C1)\n",
        "print('C2: ', C2)\n",
        "print('El conmutador es: ', chl)"
      ],
      "metadata": {
        "colab": {
          "base_uri": "https://localhost:8080/"
        },
        "id": "Oc2JrIvVWoo6",
        "outputId": "2705011b-f2ef-44e0-da71-d0c2d3b0e0d3"
      },
      "execution_count": null,
      "outputs": [
        {
          "output_type": "stream",
          "name": "stdout",
          "text": [
            " C1:  [[-10   0   0]\n",
            " [  0   0   2]\n",
            " [  0   2   0]]\n",
            "C2:  [[-10   0   0]\n",
            " [  0   0   2]\n",
            " [  0   2   0]]\n",
            "El conmutador es:  [[0 0 0]\n",
            " [0 0 0]\n",
            " [0 0 0]]\n"
          ]
        }
      ]
    },
    {
      "cell_type": "code",
      "source": [
        "autovalores_H, autovectores_H = eig(H)\n",
        "autovalores_A, autovectores_A = eig(A)\n",
        "\n",
        "print(' Los autovalores de H son: ', autovalores_H)\n",
        "print('Los autovectores de H son: ', autovectores_H)\n",
        "print(' Los autovalores de A son: ', autovalores_A)\n",
        "print('Los autovectores de A son: ', autovectores_A)\n"
      ],
      "metadata": {
        "colab": {
          "base_uri": "https://localhost:8080/"
        },
        "id": "NWfBqKv1eT0i",
        "outputId": "586beafb-e874-46c4-fa43-7646e46318ec"
      },
      "execution_count": null,
      "outputs": [
        {
          "output_type": "stream",
          "name": "stdout",
          "text": [
            " Los autovalores de H son:  [-2.  1.  1.]\n",
            "Los autovectores de H son:  [[1. 0. 0.]\n",
            " [0. 1. 0.]\n",
            " [0. 0. 1.]]\n",
            " Los autovalores de A son:  [ 2. -2.  5.]\n",
            "Los autovectores de A son:  [[ 0.          0.          1.        ]\n",
            " [ 0.70710678  0.70710678  0.        ]\n",
            " [ 0.70710678 -0.70710678  0.        ]]\n"
          ]
        }
      ]
    },
    {
      "cell_type": "markdown",
      "source": [
        "#Ejercicio 3.16"
      ],
      "metadata": {
        "id": "cYqEdeZhXLsl"
      }
    },
    {
      "cell_type": "code",
      "source": [
        "# Definimos las matrices H y A utilizando objetos de matriz de sympy\n",
        "H_sympy = sp.Matrix([\n",
        "    [0, -sp.I, 0],\n",
        "    [sp.I, 0, 2*sp.I],\n",
        "    [0, -2*sp.I, 0]\n",
        "])\n",
        "\n",
        "A_sympy = sp.Matrix([\n",
        "    [0, -sp.I, 0],\n",
        "    [sp.I, 1, 1],\n",
        "    [0, 1, 0]\n",
        "])\n",
        "\n",
        "# Calculamos los autovalores y autovectores con sympy\n",
        "autovectores_H, autovalores_H = H_sympy.diagonalize()\n",
        "autovectores_A, autovalores_A = A_sympy.diagonalize()\n",
        "\n",
        "eig_H = H_sympy.eigenvects()\n",
        "eig_A = A_sympy.eigenvects()\n",
        "\n",
        "# Simplificamos y presentamos los resultados\n",
        "eig_H_simplified = [(val, mult, [sp.simplify(vec.normalized()) for vec in vecs]) for val, mult, vecs in eig_H]\n",
        "eig_A_simplified = [(val, mult, [sp.simplify(vec.normalized()) for vec in vecs]) for val, mult, vecs in eig_A]\n",
        "\n",
        "print(' Los autovalores de H son: ', autovalores_H)\n",
        "print('Los autovectores de H son: ', eig_H_simplified)\n",
        "print(' Los autovalores de A son: ', autovalores_A)\n",
        "print('Los autovectores de A son: ', eig_A_simplified)\n"
      ],
      "metadata": {
        "colab": {
          "base_uri": "https://localhost:8080/"
        },
        "id": "hgq-3bvqXSiV",
        "outputId": "92a7c912-3850-47a8-cc32-5203121b7e11"
      },
      "execution_count": null,
      "outputs": [
        {
          "output_type": "stream",
          "name": "stdout",
          "text": [
            " Los autovalores de H son:  Matrix([[0, 0, 0], [0, -sqrt(5), 0], [0, 0, sqrt(5)]])\n",
            "Los autovectores de H son:  [(0, 1, [Matrix([\n",
            "[-2*sqrt(5)/5],\n",
            "[           0],\n",
            "[   sqrt(5)/5]])]), (-sqrt(5), 1, [Matrix([\n",
            "[ sqrt(10)/10],\n",
            "[-sqrt(2)*I/2],\n",
            "[  sqrt(10)/5]])]), (sqrt(5), 1, [Matrix([\n",
            "[sqrt(10)/10],\n",
            "[sqrt(2)*I/2],\n",
            "[ sqrt(10)/5]])])]\n",
            " Los autovalores de A son:  Matrix([[-1, 0, 0], [0, 0, 0], [0, 0, 2]])\n",
            "Los autovectores de A son:  [(-1, 1, [Matrix([\n",
            "[-sqrt(3)*I/3],\n",
            "[  -sqrt(3)/3],\n",
            "[   sqrt(3)/3]])]), (0, 1, [Matrix([\n",
            "[sqrt(2)*I/2],\n",
            "[          0],\n",
            "[  sqrt(2)/2]])]), (2, 1, [Matrix([\n",
            "[-sqrt(6)*I/6],\n",
            "[   sqrt(6)/3],\n",
            "[   sqrt(6)/6]])])]\n"
          ]
        }
      ]
    }
  ]
}