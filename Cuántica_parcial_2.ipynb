{
  "nbformat": 4,
  "nbformat_minor": 0,
  "metadata": {
    "colab": {
      "provenance": [],
      "include_colab_link": true
    },
    "kernelspec": {
      "name": "python3",
      "display_name": "Python 3"
    },
    "language_info": {
      "name": "python"
    }
  },
  "cells": [
    {
      "cell_type": "markdown",
      "metadata": {
        "id": "view-in-github",
        "colab_type": "text"
      },
      "source": [
        "<a href=\"https://colab.research.google.com/github/yyic1203/Cuantica/blob/main/Cu%C3%A1ntica_parcial_2.ipynb\" target=\"_parent\"><img src=\"https://colab.research.google.com/assets/colab-badge.svg\" alt=\"Open In Colab\"/></a>"
      ]
    },
    {
      "cell_type": "markdown",
      "source": [
        "#Librerias"
      ],
      "metadata": {
        "id": "BtfYGVbkndmD"
      }
    },
    {
      "cell_type": "code",
      "execution_count": null,
      "metadata": {
        "id": "lPLmuxRpnUuw"
      },
      "outputs": [],
      "source": [
        "import numpy as np\n",
        "import sympy as sp\n",
        "from numpy.linalg import eig"
      ]
    },
    {
      "cell_type": "markdown",
      "source": [
        "#Punto 2"
      ],
      "metadata": {
        "id": "do-RfxoFnl6B"
      }
    },
    {
      "cell_type": "code",
      "source": [
        "# Definir las variables simbólicas\n",
        "theta, phi = sp.symbols('theta phi')\n",
        "\n",
        "# Crear la matriz simbólica\n",
        "matrix = sp.Matrix([\n",
        "    [sp.cos(theta), sp.sin(theta)*sp.exp(-sp.I*phi), 0],\n",
        "    [sp.sin(theta)*sp.exp(sp.I*phi), sp.cos(theta), 0],\n",
        "    [0, 0, 1]\n",
        "])\n",
        "\n",
        "# Calcular autovalores y autovectores\n",
        "autovectores, autovalores = matrix.diagonalize()\n",
        "vec_a=matrix.eigenvects()\n",
        "\n",
        "print(' Los autovalores de H son: ', autovalores)\n",
        "print('Los autovectores de H son: ', autovectores)\n"
      ],
      "metadata": {
        "colab": {
          "base_uri": "https://localhost:8080/"
        },
        "id": "MfZncG61nnSI",
        "outputId": "a3fd5c98-d526-441b-8a9c-a2b65e9252ef"
      },
      "execution_count": null,
      "outputs": [
        {
          "output_type": "stream",
          "name": "stdout",
          "text": [
            " Los autovalores de H son:  Matrix([[1, 0, 0], [0, -sin(theta) + cos(theta), 0], [0, 0, sin(theta) + cos(theta)]])\n",
            "Los autovectores de H son:  Matrix([[0, -exp(-I*phi), exp(-I*phi)], [0, 1, 1], [1, 0, 0]])\n",
            " La matriz diagonalizada es:  Matrix([[-sin(theta), -exp(-I*phi)*cos(theta), exp(-I*phi)], [exp(I*phi)*sin(theta), cos(theta), 1], [cos(theta), exp(-I*phi)*sin(theta), 0]])\n"
          ]
        }
      ]
    },
    {
      "cell_type": "markdown",
      "source": [
        "# Punto 3\n"
      ],
      "metadata": {
        "id": "A5dVtQRTVGz2"
      }
    },
    {
      "cell_type": "markdown",
      "source": [
        "\n",
        "\n",
        "a. Compatibilidad\n"
      ],
      "metadata": {
        "id": "pmJd-AOIW5nE"
      }
    },
    {
      "cell_type": "code",
      "source": [
        "#Conmutador\n",
        "A = sp.Matrix([[10, 2, 0],\n",
        "              [2, 10, 0],\n",
        "              [0, 0, 12]])\n",
        "\n",
        "B = sp.Matrix([[5, 1, 0],\n",
        "              [1, 5, 0],\n",
        "              [0, 0, 3]])\n"
      ],
      "metadata": {
        "colab": {
          "base_uri": "https://localhost:8080/"
        },
        "id": "uhqiXankVShC",
        "outputId": "549cd9c4-bb23-4f2b-bbf7-8bd59312f7ec"
      },
      "execution_count": null,
      "outputs": [
        {
          "output_type": "stream",
          "name": "stdout",
          "text": [
            " AB:  [[52 20 0]\n",
            " [20 52 0]\n",
            " [0 0 36]]\n",
            "BA:  [[52 20 0]\n",
            " [20 52 0]\n",
            " [0 0 36]]\n",
            "El conmutador es:  [[0 0 0]\n",
            " [0 0 0]\n",
            " [0 0 0]]\n"
          ]
        }
      ]
    },
    {
      "cell_type": "markdown",
      "source": [
        "Autovectores"
      ],
      "metadata": {
        "id": "kX8NaQ8fXCdF"
      }
    },
    {
      "cell_type": "code",
      "source": [
        "# Calcular autovalores y autovectores\n",
        "autovectores_B, autovalores_B = B.diagonalize()\n",
        "autovectores_A, autovalores_A = A.diagonalize()\n",
        "\n",
        "\n",
        "print(' Los autovalores de A son: ', autovalores_A)\n",
        "print('Los autovectores de A son: ', autovectores_A)\n",
        "print(' Los autovalores de B son: ', autovalores_B)\n",
        "print('Los autovectores de B son: ', autovectores_B)"
      ],
      "metadata": {
        "colab": {
          "base_uri": "https://localhost:8080/"
        },
        "id": "Tvd2vhS6XHlm",
        "outputId": "462f5d9d-39df-4f69-b509-714dcda3ab46"
      },
      "execution_count": null,
      "outputs": [
        {
          "output_type": "stream",
          "name": "stdout",
          "text": [
            " Los autovalores de A son:  Matrix([[8, 0, 0], [0, 12, 0], [0, 0, 12]])\n",
            "Los autovectores de A son:  Matrix([[-1, 1, 0], [1, 1, 0], [0, 0, 1]])\n",
            " Los autovalores de B son:  Matrix([[3, 0, 0], [0, 4, 0], [0, 0, 6]])\n",
            "Los autovectores de B son:  Matrix([[0, -1, 1], [0, 1, 1], [1, 0, 0]])\n"
          ]
        }
      ]
    },
    {
      "cell_type": "code",
      "source": [
        "A_1 = np.array([[10, 2, 0],\n",
        "              [2, 10, 0],\n",
        "              [0, 0, 12]])\n",
        "B_1 = np.array([[5, 1, 0],\n",
        "              [1, 5, 0],\n",
        "              [0, 0, 3]])\n",
        "AB=np.dot(A_1,B_1)\n",
        "BA=np.dot(B,A)\n",
        "C=AB-BA\n",
        "print(' AB: ', AB)\n",
        "\n",
        "\n",
        "autovalores_A_1, autovectores_A_1 = np.linalg.eig(A_1)\n",
        "autovalores_B_1, autovectores_B_1 = np.linalg.eig(B_1)\n",
        "\n",
        "autovalores_AB, autovectores_AB = np.linalg.eig(AB)\n",
        "\n",
        "print(' Los autovalores de A son: ', autovalores_A_1)\n",
        "print('Los autovectores de A son: ', autovectores_A_1)\n",
        "print(' Los autovalores de B son: ', autovalores_B_1)\n",
        "print('Los autovectores de B son: ', autovectores_B_1)\n",
        "\n",
        "print(' Los autovalores de AB son: ', autovalores_AB)\n",
        "print('Los autovectores de AB son: ', autovectores_AB)"
      ],
      "metadata": {
        "colab": {
          "base_uri": "https://localhost:8080/"
        },
        "id": "OBseK0AKbKsQ",
        "outputId": "0c9dd249-879a-4188-da04-07cb4c72bd30"
      },
      "execution_count": null,
      "outputs": [
        {
          "output_type": "stream",
          "name": "stdout",
          "text": [
            " AB:  [[52 20  0]\n",
            " [20 52  0]\n",
            " [ 0  0 36]]\n",
            " Los autovalores de A son:  [12.  8. 12.]\n",
            "Los autovectores de A son:  [[ 0.70710678 -0.70710678  0.        ]\n",
            " [ 0.70710678  0.70710678  0.        ]\n",
            " [ 0.          0.          1.        ]]\n",
            " Los autovalores de B son:  [6. 4. 3.]\n",
            "Los autovectores de B son:  [[ 0.70710678 -0.70710678  0.        ]\n",
            " [ 0.70710678  0.70710678  0.        ]\n",
            " [ 0.          0.          1.        ]]\n",
            " Los autovalores de AB son:  [72. 32. 36.]\n",
            "Los autovectores de AB son:  [[ 0.70710678 -0.70710678  0.        ]\n",
            " [ 0.70710678  0.70710678  0.        ]\n",
            " [ 0.          0.          1.        ]]\n"
          ]
        }
      ]
    }
  ]
}